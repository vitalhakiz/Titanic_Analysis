{
 "cells": [
  {
   "cell_type": "markdown",
   "id": "d9db523d",
   "metadata": {},
   "source": [
    "## importing required libraries"
   ]
  },
  {
   "cell_type": "code",
   "execution_count": 1,
   "id": "9d624e7e",
   "metadata": {},
   "outputs": [],
   "source": [
    "from matplotlib.pyplot import figure                           \n",
    "import pandas as pd                                            \n",
    "import matplotlib.pyplot as plt                                \n",
    "import numpy as np                \n",
    "import seaborn as sns\n",
    "from sklearn.linear_model import LinearRegression\n",
    "from sklearn.model_selection import train_test_split\n",
    "from sklearn.metrics import classification_report, confusion_matrix\n",
    "from sklearn.ensemble import RandomForestClassifier\n",
    "from sklearn.linear_model import LogisticRegression\n",
    "from sklearn.preprocessing import LabelEncoder"
   ]
  },
  {
   "cell_type": "markdown",
   "id": "5cc4d268",
   "metadata": {},
   "source": [
    "## Building a wrange function to read the dataset, wrangle it and prepare it for analysis"
   ]
  },
  {
   "cell_type": "code",
   "execution_count": 18,
   "id": "a1f89a9e",
   "metadata": {},
   "outputs": [],
   "source": [
    "\n",
    "# Build your `wrangle` function\n",
    "def wrangle(self,filepath):\n",
    "    # Read CSV file into DataFrame\n",
    "    df = pd.read_csv(filepath)\n",
    "    # drop columns with high null or NaN counts\n",
    "    df.drop(columns=['body','boat','cabin','home.dest'], inplace=True)\n",
    "    # droping columns which have no effect on the target output which is survived\n",
    "    df.drop(columns = ['name','embarked','ticket','parch','sibsp'], inplace=True)\n",
    "    # using linear interpolation to fill NaN values in numerical data columns\n",
    "    df = df.interpolate(method ='linear', limit_direction ='forward')\n",
    "    # converting the categorical value into numerical values i.e from male and female to 1 or 0\n",
    "    le = LabelEncoder()\n",
    "    df['encoded_sex'] = le.fit_transform(df['sex'])\n",
    "\n",
    "    return df\n"
   ]
  },
  {
   "cell_type": "code",
   "execution_count": null,
   "id": "ebae2399",
   "metadata": {},
   "outputs": [],
   "source": []
  },
  {
   "cell_type": "markdown",
   "id": "67efe850",
   "metadata": {},
   "source": [
    "## Now, lets display the final dataframe which is ready for analysis"
   ]
  },
  {
   "cell_type": "code",
   "execution_count": 3,
   "id": "b77573d0",
   "metadata": {},
   "outputs": [
    {
     "data": {
      "text/html": [
       "<div>\n",
       "<style scoped>\n",
       "    .dataframe tbody tr th:only-of-type {\n",
       "        vertical-align: middle;\n",
       "    }\n",
       "\n",
       "    .dataframe tbody tr th {\n",
       "        vertical-align: top;\n",
       "    }\n",
       "\n",
       "    .dataframe thead th {\n",
       "        text-align: right;\n",
       "    }\n",
       "</style>\n",
       "<table border=\"1\" class=\"dataframe\">\n",
       "  <thead>\n",
       "    <tr style=\"text-align: right;\">\n",
       "      <th></th>\n",
       "      <th>pclass</th>\n",
       "      <th>survived</th>\n",
       "      <th>sex</th>\n",
       "      <th>age</th>\n",
       "      <th>fare</th>\n",
       "      <th>encoded_sex</th>\n",
       "    </tr>\n",
       "  </thead>\n",
       "  <tbody>\n",
       "    <tr>\n",
       "      <th>0</th>\n",
       "      <td>1</td>\n",
       "      <td>1</td>\n",
       "      <td>female</td>\n",
       "      <td>29.00</td>\n",
       "      <td>211.3375</td>\n",
       "      <td>0</td>\n",
       "    </tr>\n",
       "    <tr>\n",
       "      <th>1</th>\n",
       "      <td>1</td>\n",
       "      <td>1</td>\n",
       "      <td>male</td>\n",
       "      <td>0.92</td>\n",
       "      <td>151.5500</td>\n",
       "      <td>1</td>\n",
       "    </tr>\n",
       "    <tr>\n",
       "      <th>2</th>\n",
       "      <td>1</td>\n",
       "      <td>0</td>\n",
       "      <td>female</td>\n",
       "      <td>2.00</td>\n",
       "      <td>151.5500</td>\n",
       "      <td>0</td>\n",
       "    </tr>\n",
       "    <tr>\n",
       "      <th>3</th>\n",
       "      <td>1</td>\n",
       "      <td>0</td>\n",
       "      <td>male</td>\n",
       "      <td>30.00</td>\n",
       "      <td>151.5500</td>\n",
       "      <td>1</td>\n",
       "    </tr>\n",
       "    <tr>\n",
       "      <th>4</th>\n",
       "      <td>1</td>\n",
       "      <td>0</td>\n",
       "      <td>female</td>\n",
       "      <td>25.00</td>\n",
       "      <td>151.5500</td>\n",
       "      <td>0</td>\n",
       "    </tr>\n",
       "    <tr>\n",
       "      <th>...</th>\n",
       "      <td>...</td>\n",
       "      <td>...</td>\n",
       "      <td>...</td>\n",
       "      <td>...</td>\n",
       "      <td>...</td>\n",
       "      <td>...</td>\n",
       "    </tr>\n",
       "    <tr>\n",
       "      <th>1304</th>\n",
       "      <td>3</td>\n",
       "      <td>0</td>\n",
       "      <td>female</td>\n",
       "      <td>14.50</td>\n",
       "      <td>14.4542</td>\n",
       "      <td>0</td>\n",
       "    </tr>\n",
       "    <tr>\n",
       "      <th>1305</th>\n",
       "      <td>3</td>\n",
       "      <td>0</td>\n",
       "      <td>female</td>\n",
       "      <td>20.50</td>\n",
       "      <td>14.4542</td>\n",
       "      <td>0</td>\n",
       "    </tr>\n",
       "    <tr>\n",
       "      <th>1306</th>\n",
       "      <td>3</td>\n",
       "      <td>0</td>\n",
       "      <td>male</td>\n",
       "      <td>26.50</td>\n",
       "      <td>7.2250</td>\n",
       "      <td>1</td>\n",
       "    </tr>\n",
       "    <tr>\n",
       "      <th>1307</th>\n",
       "      <td>3</td>\n",
       "      <td>0</td>\n",
       "      <td>male</td>\n",
       "      <td>27.00</td>\n",
       "      <td>7.2250</td>\n",
       "      <td>1</td>\n",
       "    </tr>\n",
       "    <tr>\n",
       "      <th>1308</th>\n",
       "      <td>3</td>\n",
       "      <td>0</td>\n",
       "      <td>male</td>\n",
       "      <td>29.00</td>\n",
       "      <td>7.8750</td>\n",
       "      <td>1</td>\n",
       "    </tr>\n",
       "  </tbody>\n",
       "</table>\n",
       "<p>1309 rows × 6 columns</p>\n",
       "</div>"
      ],
      "text/plain": [
       "      pclass  survived     sex    age      fare  encoded_sex\n",
       "0          1         1  female  29.00  211.3375            0\n",
       "1          1         1    male   0.92  151.5500            1\n",
       "2          1         0  female   2.00  151.5500            0\n",
       "3          1         0    male  30.00  151.5500            1\n",
       "4          1         0  female  25.00  151.5500            0\n",
       "...      ...       ...     ...    ...       ...          ...\n",
       "1304       3         0  female  14.50   14.4542            0\n",
       "1305       3         0  female  20.50   14.4542            0\n",
       "1306       3         0    male  26.50    7.2250            1\n",
       "1307       3         0    male  27.00    7.2250            1\n",
       "1308       3         0    male  29.00    7.8750            1\n",
       "\n",
       "[1309 rows x 6 columns]"
      ]
     },
     "execution_count": 3,
     "metadata": {},
     "output_type": "execute_result"
    }
   ],
   "source": [
    "Titanic_df = wrangle(\"titanic3.csv\")\n",
    "Titanic_df"
   ]
  },
  {
   "cell_type": "markdown",
   "id": "7b3c4d6b",
   "metadata": {},
   "source": [
    "## Then let look on the correlation coeffients between the variables in data frame"
   ]
  },
  {
   "cell_type": "code",
   "execution_count": 4,
   "id": "7164b408",
   "metadata": {},
   "outputs": [
    {
     "data": {
      "text/html": [
       "<div>\n",
       "<style scoped>\n",
       "    .dataframe tbody tr th:only-of-type {\n",
       "        vertical-align: middle;\n",
       "    }\n",
       "\n",
       "    .dataframe tbody tr th {\n",
       "        vertical-align: top;\n",
       "    }\n",
       "\n",
       "    .dataframe thead th {\n",
       "        text-align: right;\n",
       "    }\n",
       "</style>\n",
       "<table border=\"1\" class=\"dataframe\">\n",
       "  <thead>\n",
       "    <tr style=\"text-align: right;\">\n",
       "      <th></th>\n",
       "      <th>pclass</th>\n",
       "      <th>survived</th>\n",
       "      <th>age</th>\n",
       "      <th>fare</th>\n",
       "      <th>encoded_sex</th>\n",
       "    </tr>\n",
       "  </thead>\n",
       "  <tbody>\n",
       "    <tr>\n",
       "      <th>pclass</th>\n",
       "      <td>1.000000</td>\n",
       "      <td>-0.312469</td>\n",
       "      <td>-0.407895</td>\n",
       "      <td>-0.558741</td>\n",
       "      <td>0.124617</td>\n",
       "    </tr>\n",
       "    <tr>\n",
       "      <th>survived</th>\n",
       "      <td>-0.312469</td>\n",
       "      <td>1.000000</td>\n",
       "      <td>-0.041658</td>\n",
       "      <td>0.244479</td>\n",
       "      <td>-0.528693</td>\n",
       "    </tr>\n",
       "    <tr>\n",
       "      <th>age</th>\n",
       "      <td>-0.407895</td>\n",
       "      <td>-0.041658</td>\n",
       "      <td>1.000000</td>\n",
       "      <td>0.176876</td>\n",
       "      <td>0.057729</td>\n",
       "    </tr>\n",
       "    <tr>\n",
       "      <th>fare</th>\n",
       "      <td>-0.558741</td>\n",
       "      <td>0.244479</td>\n",
       "      <td>0.176876</td>\n",
       "      <td>1.000000</td>\n",
       "      <td>-0.185745</td>\n",
       "    </tr>\n",
       "    <tr>\n",
       "      <th>encoded_sex</th>\n",
       "      <td>0.124617</td>\n",
       "      <td>-0.528693</td>\n",
       "      <td>0.057729</td>\n",
       "      <td>-0.185745</td>\n",
       "      <td>1.000000</td>\n",
       "    </tr>\n",
       "  </tbody>\n",
       "</table>\n",
       "</div>"
      ],
      "text/plain": [
       "               pclass  survived       age      fare  encoded_sex\n",
       "pclass       1.000000 -0.312469 -0.407895 -0.558741     0.124617\n",
       "survived    -0.312469  1.000000 -0.041658  0.244479    -0.528693\n",
       "age         -0.407895 -0.041658  1.000000  0.176876     0.057729\n",
       "fare        -0.558741  0.244479  0.176876  1.000000    -0.185745\n",
       "encoded_sex  0.124617 -0.528693  0.057729 -0.185745     1.000000"
      ]
     },
     "execution_count": 4,
     "metadata": {},
     "output_type": "execute_result"
    }
   ],
   "source": [
    "# correlation coefficient matrix\n",
    "correlation_coeff = Titanic_df.corr()\n",
    "correlation_coeff"
   ]
  },
  {
   "cell_type": "code",
   "execution_count": 5,
   "id": "9f4caabc",
   "metadata": {},
   "outputs": [
    {
     "data": {
      "text/plain": [
       "<AxesSubplot:>"
      ]
     },
     "execution_count": 5,
     "metadata": {},
     "output_type": "execute_result"
    },
    {
     "data": {
      "image/png": "[encoded data removed]",
      "text/plain": [
       "<Figure size 480x320 with 2 Axes>"
      ]
     },
     "metadata": {
      "needs_background": "light"
     },
     "output_type": "display_data"
    }
   ],
   "source": [
    "# Heatmap of the correlation coefficient matrix\n",
    "# setting the size of the correlation heat map\n",
    "figure(figsize=(6, 4), dpi=80)\n",
    "# generating the heap map of the correlation matrix\n",
    "sns.heatmap(correlation_coeff, annot=True)   "
   ]
  },
  {
   "cell_type": "markdown",
   "id": "a10b9253",
   "metadata": {},
   "source": [
    "From the heatmap above, it seems like pclass and encoded_sex (sex) are highly correlated with the survived than other variables.\n",
    "This is means that pclass and Sex columns affect more the target output which is survived. According to the result from the heatmap above, it shows that the age is weakly correlated to the target output(survived)."
   ]
  },
  {
   "cell_type": "markdown",
   "id": "d04dbfa0",
   "metadata": {},
   "source": [
    "## Finding the probability of survival for a passenger on the titanic"
   ]
  },
  {
   "cell_type": "markdown",
   "id": "0303dd93",
   "metadata": {},
   "source": [
    "Building Prob_passenger function that will return a table giving survival probabilities broken down by passenger class, gender, and age."
   ]
  },
  {
   "cell_type": "code",
   "execution_count": 6,
   "id": "531c626b",
   "metadata": {},
   "outputs": [],
   "source": [
    "def Prob_passenger(df):\n",
    "    # calculating the surviving probability\n",
    "    Prob_Survived = len(df[df['survived']==1]) / len(df)\n",
    "    # Calculating the survival probability per class\n",
    "       # Class1\n",
    "    Class1 = df[df['pclass']==1]\n",
    "    Survive_Prob_Class1 = len(Class1[Class1['survived']==1]) / len(Class1) \n",
    "       # Class2\n",
    "    Class2 = df[df['pclass']==2]\n",
    "    Survive_Prob_Class2 = len(Class2[Class2['survived']==1]) / len(Class2)\n",
    "      # Class3\n",
    "    Class3 = df[df['pclass']==3]\n",
    "    Survive_Prob_Class3 = len(Class3[Class3['survived']==1]) / len(Class3)\n",
    "    \n",
    "    # Calculating the survival probabilities per sex or gend\n",
    "      # Starting for Male\n",
    "    Male = df[df['sex']=='male']\n",
    "    Prob_Male_Survival = len(Male[Male['survived']==1]) / len(Male)\n",
    "      # Then for Female\n",
    "    Female = df[df['sex']=='female']\n",
    "    Prob_Female_Survival = len(Female[Female['survived']==1]) / len(Female)\n",
    "    \n",
    "    # Calculating the survival probabilities per age group\n",
    "     # For age less than 30 years\n",
    "    Age_less30 = df[df['age']<=30]\n",
    "    Prob_Age_less30 = len(Age_less30[Age_less30['survived']==1]) / len(Age_less30)\n",
    "\n",
    "       # for age greater than 30 but less than 60 years\n",
    "    Age_less60 = df[(df['age']>30) & (df['age']<=60) ]\n",
    "    Prob_Age_less60 = len(Age_less60[Age_less60['survived']==1]) / len(Age_less60)\n",
    "\n",
    "        # for age greater than 60 years\n",
    "    Age_greater60 = df[df['age']>60]\n",
    "    Prob_Age_greater60 = len(Age_greater60[Age_greater60['survived']==1]) / len(Age_greater60)\n",
    "    \n",
    "    # creating a dictionary of probabilitie\n",
    "    table = {'female':[Prob_Female_Survival], 'male':[Prob_Male_Survival], 'class1':[Survive_Prob_Class1],\n",
    "        'class2':[Survive_Prob_Class2], 'class3':[Survive_Prob_Class3], 'age<=30':[Prob_Age_less30],\n",
    "        '30<age<=60':[Prob_Age_less60], 'age>60':[Prob_Age_greater60]}\n",
    "\n",
    "    ## creating a dataframe of the dictionary to be able to print the table\n",
    "    df = pd.DataFrame(table)\n",
    "    \n",
    "    return df\n",
    "    "
   ]
  },
  {
   "cell_type": "markdown",
   "id": "374cecae",
   "metadata": {},
   "source": [
    "### Now call the function and pass in dataframe and returns the passenger probabilities based on sex, class and age"
   ]
  },
  {
   "cell_type": "code",
   "execution_count": 7,
   "id": "fa5515b9",
   "metadata": {},
   "outputs": [
    {
     "data": {
      "text/html": [
       "<div>\n",
       "<style scoped>\n",
       "    .dataframe tbody tr th:only-of-type {\n",
       "        vertical-align: middle;\n",
       "    }\n",
       "\n",
       "    .dataframe tbody tr th {\n",
       "        vertical-align: top;\n",
       "    }\n",
       "\n",
       "    .dataframe thead th {\n",
       "        text-align: right;\n",
       "    }\n",
       "</style>\n",
       "<table border=\"1\" class=\"dataframe\">\n",
       "  <thead>\n",
       "    <tr style=\"text-align: right;\">\n",
       "      <th></th>\n",
       "      <th>female</th>\n",
       "      <th>male</th>\n",
       "      <th>class1</th>\n",
       "      <th>class2</th>\n",
       "      <th>class3</th>\n",
       "      <th>age&lt;=30</th>\n",
       "      <th>30&lt;age&lt;=60</th>\n",
       "      <th>age&gt;60</th>\n",
       "    </tr>\n",
       "  </thead>\n",
       "  <tbody>\n",
       "    <tr>\n",
       "      <th>0</th>\n",
       "      <td>0.727468</td>\n",
       "      <td>0.190985</td>\n",
       "      <td>0.619195</td>\n",
       "      <td>0.429603</td>\n",
       "      <td>0.255289</td>\n",
       "      <td>0.38163</td>\n",
       "      <td>0.39243</td>\n",
       "      <td>0.235294</td>\n",
       "    </tr>\n",
       "  </tbody>\n",
       "</table>\n",
       "</div>"
      ],
      "text/plain": [
       "     female      male    class1    class2    class3  age<=30  30<age<=60  \\\n",
       "0  0.727468  0.190985  0.619195  0.429603  0.255289  0.38163     0.39243   \n",
       "\n",
       "     age>60  \n",
       "0  0.235294  "
      ]
     },
     "execution_count": 7,
     "metadata": {},
     "output_type": "execute_result"
    }
   ],
   "source": [
    "Prob_passenger(Titanic_df)"
   ]
  },
  {
   "cell_type": "markdown",
   "id": "a061fe27",
   "metadata": {},
   "source": [
    "From the table above, we can all see that female were more likely to survive than males. Males had less chances to survive.In addition, passengers in class1 were more likely to survive than passengers in class2 and than passengers in class3. we can observe that the class of passengers affect the survival of the passenger too. for ages, we see than passengers who had ages greater than 60 had less chance to survive compared to passengers with ages less than 60. "
   ]
  },
  {
   "cell_type": "code",
   "execution_count": null,
   "id": "e0af4e3d",
   "metadata": {},
   "outputs": [],
   "source": []
  },
  {
   "cell_type": "markdown",
   "id": "1e157441",
   "metadata": {},
   "source": [
    "## Building Random Forest model for the dataset to predict the target"
   ]
  },
  {
   "cell_type": "markdown",
   "id": "f4cea344",
   "metadata": {},
   "source": [
    "### First, lets separate predictor variables and target variable"
   ]
  },
  {
   "cell_type": "code",
   "execution_count": 20,
   "id": "9aa061a4",
   "metadata": {},
   "outputs": [],
   "source": [
    "X = Titanic_df.drop(columns=['survived','sex'])\n",
    "y = Titanic_df['survived']"
   ]
  },
  {
   "cell_type": "code",
   "execution_count": null,
   "id": "09b81fec",
   "metadata": {},
   "outputs": [],
   "source": []
  },
  {
   "cell_type": "markdown",
   "id": "9461725b",
   "metadata": {},
   "source": [
    "## Building Random_Forest function that will return the accuracies of the model and the confusion matrix graph"
   ]
  },
  {
   "cell_type": "code",
   "execution_count": 13,
   "id": "59371529",
   "metadata": {},
   "outputs": [],
   "source": [
    "def Random_Forest(X,y):\n",
    "    # split X and y into training and testing sets\n",
    "    X_train,X_test,y_train,y_test = train_test_split(X,y,test_size=0.25,random_state=0)\n",
    "    # Instationing the random forest classifier\n",
    "    Rf_Classifier = RandomForestClassifier(n_estimators = 80, min_samples_leaf=3,max_leaf_nodes = 80, max_depth=3, n_jobs=-1)\n",
    "    # fit the model\n",
    "    Rf_Classifier.fit(X_train,y_train)\n",
    "    # generate predictions\n",
    "    Rf_prediction = Rf_Classifier.predict(X_test)\n",
    "    \n",
    "    # Now lets use Metrics to calculate the accuracies\n",
    "    Rf_conf_matrix = confusion_matrix(y_test,Rf_prediction)\n",
    "    \n",
    "    ## Now let's use Classification Report to generate the accuracies\n",
    "    Rf_c_report = classification_report(y_test,Rf_prediction,output_dict=True)\n",
    "    Rf_precision = Rf_c_report['weighted avg']['precision']\n",
    "    Rf_recall = Rf_c_report['weighted avg']['recall']\n",
    "    Rf_f1score = Rf_c_report['weighted avg']['f1-score']\n",
    "    \n",
    "    # Ploting the confusion matrix\n",
    "    fig, ax = plt.subplots(figsize = (4,4))\n",
    "    ax.matshow(Rf_conf_matrix, cmap = plt.cm.Greens, alpha = 0.5)\n",
    "    for i in range(Rf_conf_matrix.shape[0]):\n",
    "        for j in range(Rf_conf_matrix.shape[1]):\n",
    "            ax.text(x = j, y = i, s = Rf_conf_matrix[i, j],)\n",
    "\n",
    "    plt.xlabel('Predictions')\n",
    "    plt.ylabel('Actuals')\n",
    "    plt.title('Confusion Matrix')\n",
    "    plt.show()\n",
    "\n",
    "    return (f\"Precision:{Rf_precision:.3f}\\nRecall:{Rf_recall:.3f}\\nf1-score:{Rf_f1score:.3f}\"), Rf_conf_matrix\n"
   ]
  },
  {
   "cell_type": "markdown",
   "id": "0fbcd0e0",
   "metadata": {},
   "source": [
    "### Now call the function and pass in parameters and returns the confusion matrix graph and the accuracies (precision, recall and f1-score) "
   ]
  },
  {
   "cell_type": "code",
   "execution_count": 15,
   "id": "c45e6b74",
   "metadata": {},
   "outputs": [
    {
     "data": {
      "image/png": "[encoded data removed]",
      "text/plain": [
       "<Figure size 288x288 with 1 Axes>"
      ]
     },
     "metadata": {
      "needs_background": "light"
     },
     "output_type": "display_data"
    },
    {
     "data": {
      "text/plain": [
       "('Precision:0.809\\nRecall:0.811\\nf1-score:0.807',\n",
       " array([[186,  22],\n",
       "        [ 40,  80]], dtype=int64))"
      ]
     },
     "execution_count": 15,
     "metadata": {},
     "output_type": "execute_result"
    }
   ],
   "source": [
    "Random_Forest(X,y)"
   ]
  },
  {
   "cell_type": "markdown",
   "id": "0fd146b0",
   "metadata": {},
   "source": [
    "From the confusion matrix, we can see the TP(True Positive) is 186 and TN(True Negative) is 80, FP(False Positive) is 22 and FN(False Negative) is 40 when our model is given unseen data (test data). Normaly, the accuracy is calculated as (TP+TN) / (TP+TN+FP+FN) and in this case will be (186+80)/(186+80+22+40) = 0.8109 same as Recall obtained. That is how the confusion matrix help us to calculate the accuracy of the model after prediction. The accuracy in this case explains how well we managed to predict the unseen data comparing to the true values. Therefore, for this model, we are sure that around 81 percent for each prediction of survival in titanic the passenger survived or died. The model accuracy is 81 percent."
   ]
  },
  {
   "cell_type": "code",
   "execution_count": null,
   "id": "1bc9e628",
   "metadata": {},
   "outputs": [],
   "source": []
  },
  {
   "cell_type": "markdown",
   "id": "c7856e84",
   "metadata": {},
   "source": [
    "# Now lets build another model to compare to Random Forest Classifier"
   ]
  },
  {
   "cell_type": "markdown",
   "id": "cbf69454",
   "metadata": {},
   "source": [
    "## Building a logistic regression model for survival rates based on passenger class, sex, and age."
   ]
  },
  {
   "cell_type": "markdown",
   "id": "aab703b2",
   "metadata": {},
   "source": [
    "Building Logistic_Regression function that will return confusion matrix of the logistic regression model and accuracies (precision, recall and f1-score)"
   ]
  },
  {
   "cell_type": "code",
   "execution_count": 11,
   "id": "1ed2c751",
   "metadata": {},
   "outputs": [],
   "source": [
    "def Logistic_Regression(X,y):\n",
    "    # split X and y into training and testing sets\n",
    "    X_train,X_test,y_train,y_test = train_test_split(X,y,test_size=0.25,random_state=0)\n",
    "   # instantiate the model (using the default parameters)\n",
    "    logreg = LogisticRegression()\n",
    "    # fit the model with data\n",
    "    logreg.fit(X_train,y_train)\n",
    "    # generate predictions\n",
    "    y_pred = logreg.predict(X_test)\n",
    "    # Confusion matrix\n",
    "    Conf_Matrix = confusion_matrix(y_test,y_pred)\n",
    "    \n",
    "    # Ploting the confusion matrix\n",
    "    fig, ax = plt.subplots(figsize = (4,4))\n",
    "    ax.matshow(Conf_Matrix, cmap = plt.cm.Greens, alpha = 0.5)\n",
    "    for i in range(Conf_Matrix.shape[0]):\n",
    "        for j in range(Conf_Matrix.shape[1]):\n",
    "            ax.text(x = j, y = i, s = Conf_Matrix[i, j],)\n",
    "\n",
    "    plt.xlabel('Predictions')\n",
    "    plt.ylabel('Actuals')\n",
    "    plt.title('Confusion Matrix')\n",
    "    plt.show()\n",
    "    \n",
    "    ## Now let's use Classification Report to generate the accuracies\n",
    "    Log_cls_report = classification_report(y_test,y_pred,output_dict=True)\n",
    "    Log_precision = Log_cls_report['weighted avg']['precision']\n",
    "    Log_recall = Log_cls_report['weighted avg']['recall']\n",
    "    Log_f1score = Log_cls_report['weighted avg']['f1-score']\n",
    "    \n",
    "    return (f\"Precision:{Log_precision:.3f}\\nRecall:{Log_recall:.3f}\\nf1-score:{Log_f1score:.3f}\"), Conf_Matrix\n",
    "    "
   ]
  },
  {
   "cell_type": "markdown",
   "id": "8fbe0a7b",
   "metadata": {},
   "source": [
    "### Now call the function and pass in parameters and returns the confusion matrix graph and the accuracies (precision, recall and f1-score) "
   ]
  },
  {
   "cell_type": "code",
   "execution_count": 12,
   "id": "eeecb6ec",
   "metadata": {},
   "outputs": [
    {
     "data": {
      "image/png": "[encoded data removed]",
      "text/plain": [
       "<Figure size 288x288 with 1 Axes>"
      ]
     },
     "metadata": {
      "needs_background": "light"
     },
     "output_type": "display_data"
    },
    {
     "data": {
      "text/plain": [
       "('Precision:0.787\\nRecall:0.790\\nf1-score:0.788',\n",
       " array([[178,  30],\n",
       "        [ 39,  81]], dtype=int64))"
      ]
     },
     "execution_count": 12,
     "metadata": {},
     "output_type": "execute_result"
    }
   ],
   "source": [
    "Logistic_Regression(X,y)"
   ]
  },
  {
   "cell_type": "markdown",
   "id": "3058e8bc",
   "metadata": {},
   "source": [
    "From the confusion matrix, we can see the TP(True Positive) is 178 and TN(True Negative) is 81, FP(False Positive) is 30 and FN(False Negative) is 39 when our model is given unseen data (test data). Normaly, the accuracy is calculated as (TP+TN) / (TP+TN+FP+FN) and in this case will be (178+81)/(178+81+30+39) = 0.7896 same as Recall obtained. That is how the confusion matrix help us to calculate the accuracy of the model after prediction. The accuracy in this case explains how well we managed to predict the unseen data comparing to the true values. Therefore, for this model, we are sure that around 79 percent for each prediction of survival in titanic the passenger survived or died. The model accuracy is 79 percent."
   ]
  },
  {
   "cell_type": "markdown",
   "id": "82da8cb4",
   "metadata": {},
   "source": [
    "### Therefore, compared to Logistic Regression, Random Forest Classifier is more accurate than Logistic Regression model\n",
    "### It gives the accuracy which is 2percent higher than the accuracy obtained from Logistic Regression model for this project."
   ]
  },
  {
   "cell_type": "code",
   "execution_count": null,
   "id": "2647639d",
   "metadata": {},
   "outputs": [],
   "source": []
  }
 ],
 "metadata": {
  "kernelspec": {
   "display_name": "Python 3",
   "language": "python",
   "name": "python3"
  },
  "language_info": {
   "codemirror_mode": {
    "name": "ipython",
    "version": 3
   },
   "file_extension": ".py",
   "mimetype": "text/x-python",
   "name": "python",
   "nbconvert_exporter": "python",
   "pygments_lexer": "ipython3",
   "version": "3.8.8"
  }
 },
 "nbformat": 4,
 "nbformat_minor": 5
}
